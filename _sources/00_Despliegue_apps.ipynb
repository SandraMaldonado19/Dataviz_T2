{
 "cells": [
  {
   "cell_type": "markdown",
   "metadata": {},
   "source": [
    "# Despliegue de aplicaciones con Docker\n",
    "\n",
    "Desplegar un dashboard creado en `Dash` en un contenedor `Docker` es una forma eficaz de distribuir y ejecutar tu aplicación en diferentes entornos sin preocuparnos por las diferencias en las configuraciones del sistema. `Dockerizar un tablero dash es muy fácil, sólo tienes que añadir un Dockerfile con un par de líneas de instrucciones, construir un contenedor con él, y ejecutarlo`. El proceso comienza con el uso de una aplicación Dash probada localmente. Luego, se crea un Dockerfile, que contiene instrucciones para construir un contenedor Docker que hospedará el dashboard.\n",
    "\n",
    "A continuación, se proporcionará un resumen de los pasos empleados para desplegar dos ejemplos de dashboard Dash en Docker:\n",
    "\n",
    "## Creación del directorio\n",
    "\n",
    "Se creó una carpeta en donde se alojarán todos los archivos requeridos para el despliegue de cada aplicación, incluyendo un `archivo .py` que contenga la aplicación, un `README`, un `archivo de requerimientos .txt` y el `Dockerfile`.\n",
    "\n",
    "![image](assets/directory.png)\n",
    "<p style=\"text-align: center; width: 100%;\">Figura 1. Creación del directorio donde se guardan todos los archivos requeridos para el despliegue</p>\n",
    "\n",
    "## Configuración de un entorno dedicado\n",
    "\n",
    "Antes de dockerizar el dash es recomendable crear un ambiente de dedicado, con el propósito de consumir menos recursos y optmizar el proceso de visualización. Para ello, se utiliza el siguiente código desde la consola `Anaconda Powershell`:\n",
    "\n",
    "```PowerShell\n",
    "conda create --name dashdocker_venv python=3.9\n",
    "```\n",
    "Una vez creado, debe activarse con el siguiente comando\n",
    "\n",
    "```PowerShell\n",
    "conda activate dashdocker_venv\n",
    "```\n",
    "\n",
    "Luego se ubica el directorio de la carpeta donde se guarda la aplicación\n",
    "\n",
    "```PowerShell\n",
    "cd \"C:\\Users\\Sandra\\OneDrive - Universidad del Norte\\02_Posgrado\\03_Semestre_2023-30\\Visualización de datos\\Tarea2\\docker_dash_mapa\"\n",
    "ls\n",
    "```"
   ]
  }
 ],
 "metadata": {
  "language_info": {
   "name": "python"
  }
 },
 "nbformat": 4,
 "nbformat_minor": 2
}
